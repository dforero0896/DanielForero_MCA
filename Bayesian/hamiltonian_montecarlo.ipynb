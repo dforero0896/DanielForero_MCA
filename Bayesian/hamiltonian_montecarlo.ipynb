{
 "cells": [
  {
   "cell_type": "code",
   "execution_count": 2,
   "metadata": {
    "collapsed": true
   },
   "outputs": [],
   "source": [
    "import numpy as np\n",
    "import matplotlib.pyplot as plt\n",
    "%matplotlib inline"
   ]
  },
  {
   "cell_type": "code",
   "execution_count": 44,
   "metadata": {
    "collapsed": true
   },
   "outputs": [],
   "source": [
    "dt=1e-2\n",
    "\n",
    "def loglike(q):\n",
    "    return np.exp(-q**2)\n",
    "def derloglike(q):\n",
    "    return-2*q\n",
    "\n",
    "def leapfrog(q, p, delta_t=1e-1, niter=5):\n",
    "    qnew=q\n",
    "    pnew=p\n",
    "    for i in range(niter):\n",
    "        pnew=pnew + 0.5 * delta_t * derloglike(qnew) #La ecuación a solucionar\n",
    "        qnew=qnew + delta_t * pnew #dH/dp =p\n",
    "        pnew=pnew + 0.5 * delta_t * derloglike(qnew)\n",
    "    pnew=pnew\n",
    "    return qnew, pnew\n",
    "\n",
    "def H(q, p):\n",
    "    T=0.5*p**2\n",
    "    V=-loglike(q)\n",
    "    return T+V"
   ]
  },
  {
   "cell_type": "code",
   "execution_count": 45,
   "metadata": {
    "collapsed": true
   },
   "outputs": [],
   "source": [
    "def MCMC(nsteps):\n",
    "    q = np.zeros(nsteps)\n",
    "    p = np.zeros(nsteps)\n",
    "    p[0] = np.random.normal(0, 1)\n",
    "    q[0] = np.random.normal(0, 1)\n",
    "    for i in range(1, nsteps):\n",
    "        p[i] = np.random.normal(0, 1)\n",
    "        qnew, pnew = leapfrog(q[i-1], p[i-1])\n",
    "        Enew = H(qnew, pnew)\n",
    "        Eold=H(q[i-1], p[i-1])\n",
    "        alpha=min(1., np.exp(-Enew+Eold))\n",
    "        beta=np.random.random()\n",
    "        if beta < alpha :\n",
    "            q[i]=qnew\n",
    "        else:\n",
    "            q[i]=q[i-1]\n",
    "    return q\n",
    "    "
   ]
  },
  {
   "cell_type": "code",
   "execution_count": 50,
   "metadata": {
    "collapsed": false
   },
   "outputs": [],
   "source": [
    "qchain=MCMC(100000)"
   ]
  },
  {
   "cell_type": "code",
   "execution_count": 51,
   "metadata": {
    "collapsed": false
   },
   "outputs": [
    {
     "data": {
      "text/plain": [
       "(array([  2624.,   1790.,   2610.,   4292.,   3717.,   3743.,   4126.,\n",
       "          4877.,   7577.,  10257.,   8132.,   5079.,   4330.,   4637.,\n",
       "          3713.,   5389.,   6651.,   7801.,   5230.,   2925.]),\n",
       " array([-5.78438076, -5.17909482, -4.57380889, -3.96852295, -3.36323702,\n",
       "        -2.75795108, -2.15266515, -1.54737921, -0.94209328, -0.33680735,\n",
       "         0.26847859,  0.87376452,  1.47905046,  2.08433639,  2.68962233,\n",
       "         3.29490826,  3.9001942 ,  4.50548013,  5.11076607,  5.716052  ,\n",
       "         6.32133794]),\n",
       " <a list of 20 Patch objects>)"
      ]
     },
     "execution_count": 51,
     "metadata": {},
     "output_type": "execute_result"
    },
    {
     "data": {
      "image/png": "[encoded data removed]",
      "text/plain": [
       "<matplotlib.figure.Figure at 0x7fe83f35f7d0>"
      ]
     },
     "metadata": {},
     "output_type": "display_data"
    }
   ],
   "source": [
    "plt.hist(qchain[500:], bins=20)"
   ]
  },
  {
   "cell_type": "code",
   "execution_count": null,
   "metadata": {
    "collapsed": true
   },
   "outputs": [],
   "source": []
  }
 ],
 "metadata": {
  "anaconda-cloud": {},
  "kernelspec": {
   "display_name": "Python [default]",
   "language": "python",
   "name": "python2"
  },
  "language_info": {
   "codemirror_mode": {
    "name": "ipython",
    "version": 2
   },
   "file_extension": ".py",
   "mimetype": "text/x-python",
   "name": "python",
   "nbconvert_exporter": "python",
   "pygments_lexer": "ipython2",
   "version": "2.7.12"
  }
 },
 "nbformat": 4,
 "nbformat_minor": 1
}
